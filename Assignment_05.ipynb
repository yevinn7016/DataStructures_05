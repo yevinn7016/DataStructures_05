{
  "nbformat": 4,
  "nbformat_minor": 0,
  "metadata": {
    "colab": {
      "provenance": []
    },
    "kernelspec": {
      "name": "python3",
      "display_name": "Python 3"
    },
    "language_info": {
      "name": "python"
    }
  },
  "cells": [
    {
      "cell_type": "markdown",
      "source": [],
      "metadata": {
        "id": "sezTFNC3xK5u"
      }
    },
    {
      "cell_type": "markdown",
      "source": [
        "#과제 3."
      ],
      "metadata": {
        "id": "dJytu7tibyIb"
      }
    },
    {
      "cell_type": "code",
      "source": [
        "class Heap:\n",
        "    def __init__(self, *args):\n",
        "        if len(args) != 0:\n",
        "            self.__A = args[0]  # 파라미터로 온 리스트\n",
        "        else:\n",
        "            self.__A = []\n",
        "\n",
        "    # [알고리즘 8-2] 구현: 힙에 원소 삽입하기(재귀 알고리즘 버전)\n",
        "    def insert(self, x):\n",
        "        self.__A.append(x)\n",
        "        self.__percolateUp(len(self.__A) - 1)\n",
        "\n",
        "    # 스며오르기\n",
        "    def __percolateUp(self, i: int):\n",
        "        parent = (i - 1) // 2\n",
        "        if i > 0 and self.__A[i] > self.__A[parent]:\n",
        "            self.__A[i], self.__A[parent] = self.__A[parent], self.__A[i]\n",
        "            self.__percolateUp(parent)\n",
        "\n",
        "    # [알고리즘 8-2] 구현: 힙에서 원소 삭제하기\n",
        "    def deleteMax(self):\n",
        "        # heap is in self.__A[0...len(self.__A)-1]\n",
        "        if (not self.isEmpty()):\n",
        "            max = self.__A[0]\n",
        "            self.__A[0] = self.__A.pop()  # *.pop(): 리스트의 끝원소 삭제 후 원소 리턴\n",
        "            self.__percolateDown(0)\n",
        "            return max\n",
        "        else:\n",
        "            return None\n",
        "\n",
        "    # 스며내리기\n",
        "    def __percolateDown(self, i: int):\n",
        "        # Percolate down w/ self.__A[i] as the root\n",
        "        child = 2 * i + 1  # left child\n",
        "        right = 2 * i + 2  # right child\n",
        "        if (child <= len(self.__A) - 1):\n",
        "            if (right <= len(self.__A) - 1 and self.__A[child] < self.__A[right]):\n",
        "                child = right  # index of larger child\n",
        "            if self.__A[i] < self.__A[child]:\n",
        "                self.__A[i], self.__A[child] = self.__A[child], self.__A[i]\n",
        "                self.__percolateDown(child)\n",
        "\n",
        "    def max(self):\n",
        "        return self.__A[0]\n",
        "\n",
        "    # 힙 만들기\n",
        "    def buildHeap(self):\n",
        "        for i in range((len(self.__A) - 2) // 2, -1, -1):\n",
        "            self.__percolateDown(i)\n",
        "\n",
        "    # 힙이 비었는지 확인하기\n",
        "    def isEmpty(self) -> bool:\n",
        "        return len(self.__A) == 0\n",
        "\n",
        "    def clear(self):\n",
        "        self.__A = []\n",
        "\n",
        "    def size(self) -> int:\n",
        "        return len(self.__A)\n",
        "\n",
        "    def print_10(self):\n",
        "        self.__A.sort()\n",
        "\n",
        "        for i in range(10):\n",
        "            print(self.__A[len(self.__A)-i-1])\n",
        "\n",
        "a = Heap([20031015, 20051214, 20041103, 20041108, 20041228, 20041004, 20030805, 20051005, 20040203, 20040117, 20000209, 20030304, 20050923, 20051002, 20050324, 20051202, 20040210, 20040517, 20041026, 20020911, 20040628, 20050203, 20030110, 20041207, 20030124, 20030910, 20031128, 20051031, 20010826, 20051019, 20040412, 20050422, 20000922, 20030110, 20050417, 20040722, 20050123, 20050910, 20040409, 20030212, 20051001, 20050501, 20011212, 20041104, 20050325, 20050316, 20041105, 20050214, 20040428, 20040514, 20040728, 20000507, 20030603, 20051102, 20040802, 20051024, 20030122, 20030104, 20050620, 20041108, 20041206, 20051230, 20040707, 20050126, 20040420, 20031022, 20030603, 19851205, 20040501, 20030926, 20030702, 20051009, 20020505, 20050328, 20050712, 20050509, 20050920, 20050519, 20040413, 20030206, 20050517, 20040503, 20040927, 20041007, 20051112, 20051225, 20050305, 20051028, 20040609, 20040118, 20040910, 20041005, 20010904, 20040316, 20021215, 20030109, 20020324, 20050602, 20050601, 20041107, 20030513, 20020415, 20040327, 20030516, 20040415, 20050207, 20021213, 20040318, 20041121, 20020619, 20030802, 20050224, 20030917, 20050119, 20040509, 20050926, 20051008, 20050704, 20040805, 20050621, 20040611, 20241282, 20050203\n",
        "])\n",
        "a.print_10()\n",
        "a.buildHeap()\n",
        "\n"
      ],
      "metadata": {
        "colab": {
          "base_uri": "https://localhost:8080/"
        },
        "id": "m9mJ3S3XcRfN",
        "outputId": "a7031e42-68ef-4682-993f-621e2e5704c5"
      },
      "execution_count": 4,
      "outputs": [
        {
          "output_type": "stream",
          "name": "stdout",
          "text": [
            "20241282\n",
            "20051230\n",
            "20051225\n",
            "20051214\n",
            "20051202\n",
            "20051112\n",
            "20051102\n",
            "20051031\n",
            "20051028\n",
            "20051024\n"
          ]
        }
      ]
    },
    {
      "cell_type": "markdown",
      "source": [
        "# 과제4.\n"
      ],
      "metadata": {
        "id": "W2bXalWCcjWv"
      }
    },
    {
      "cell_type": "code",
      "source": [
        "class BidirectNode:\n",
        "    def __init__(self, x, prevNode: 'BidirectNode' = None, nextNode: 'BidirectNode' = None):\n",
        "        self.item = x\n",
        "        self.prev = prevNode\n",
        "        self.next = nextNode\n",
        "\n",
        "\n",
        "class CircularDoublyLinkedList:\n",
        "    def __init__(self):\n",
        "        self.__head = BidirectNode(\"dummy\")\n",
        "        self.__head.prev = self.__head\n",
        "        self.__head.next = self.__head\n",
        "        self.__numItems = 0\n",
        "\n",
        "    def insert(self, i: int, newItem) -> None:\n",
        "        if 0 <= i <= self.__numItems:\n",
        "            prev = self.getNode(i - 1)\n",
        "            newNode = BidirectNode(newItem, prev, prev.next)\n",
        "            newNode.next.prev = newNode\n",
        "            prev.next = newNode\n",
        "            self.__numItems += 1\n",
        "        else:\n",
        "            print(\"index\", i, \": out of bound in insert()\")\n",
        "\n",
        "    def append(self, newItem) -> None:\n",
        "        prev = self.__head.prev\n",
        "        newNode = BidirectNode(newItem, prev, self.__head)\n",
        "        prev.next = newNode\n",
        "        self.__head.prev = newNode\n",
        "        self.__numItems += 1\n",
        "\n",
        "    def pop(self, *args):\n",
        "        if self.isEmpty():\n",
        "            return None\n",
        "        i = args[0] if args else self.__numItems - 1\n",
        "        if i == -1:\n",
        "            i = self.__numItems - 1\n",
        "        if 0 <= i <= self.__numItems - 1:\n",
        "            curr = self.getNode(i)\n",
        "            retItem = curr.item\n",
        "            curr.prev.next = curr.next\n",
        "            curr.next.prev = curr.prev\n",
        "            self.__numItems -= 1\n",
        "            return retItem\n",
        "        else:\n",
        "            return None\n",
        "\n",
        "    def remove(self, x):\n",
        "        curr = self.__findNode(x)\n",
        "        if curr:\n",
        "            curr.prev.next = curr.next\n",
        "            curr.next.prev = curr.prev\n",
        "            self.__numItems -= 1\n",
        "            return x\n",
        "        else:\n",
        "            return None\n",
        "\n",
        "    def get(self, *args):\n",
        "        if self.isEmpty():\n",
        "            return None\n",
        "        i = args[0] if args else self.__numItems - 1\n",
        "        if i == -1:\n",
        "            i = self.__numItems - 1\n",
        "        if 0 <= i <= self.__numItems - 1:\n",
        "            return self.getNode(i).item\n",
        "        else:\n",
        "            return None\n",
        "\n",
        "    def index(self, x) -> int:\n",
        "        cnt = 0\n",
        "        for element in self:\n",
        "            if element == x:\n",
        "                return cnt\n",
        "            cnt += 1\n",
        "        return -12345\n",
        "\n",
        "    def isEmpty(self) -> bool:\n",
        "        return self.__numItems == 0\n",
        "\n",
        "    def size(self) -> int:\n",
        "        return self.__numItems\n",
        "\n",
        "    def clear(self):\n",
        "        self.__head = BidirectNode(\"dummy\")\n",
        "        self.__head.prev = self.__head\n",
        "        self.__head.next = self.__head\n",
        "        self.__numItems = 0\n",
        "\n",
        "    def count(self, x) -> int:\n",
        "        cnt = 0\n",
        "        for element in self:\n",
        "            if element == x:\n",
        "                cnt += 1\n",
        "        return cnt\n",
        "\n",
        "    def extend(self, a):\n",
        "        for element in a:\n",
        "            self.append(element)\n",
        "\n",
        "    def copy(self) -> 'CircularDoublyLinkedList':\n",
        "        a = CircularDoublyLinkedList()\n",
        "        for element in self:\n",
        "            a.append(element)\n",
        "        return a\n",
        "\n",
        "    def reverse(self) -> None:\n",
        "        prev = self.__head\n",
        "        curr = prev.next\n",
        "        nextNode = curr.next\n",
        "        self.__head.next = prev.prev\n",
        "        self.__head.prev = curr\n",
        "        for _ in range(self.__numItems):\n",
        "            curr.next = prev\n",
        "            curr.prev = nextNode\n",
        "            prev = curr\n",
        "            curr = nextNode\n",
        "            nextNode = nextNode.next\n",
        "\n",
        "    def sort(self) -> None:\n",
        "        a = [element for element in self]\n",
        "        a.sort()\n",
        "        self.clear()\n",
        "        for element in a:\n",
        "            self.append(element)\n",
        "\n",
        "    def __findNode(self, x) -> BidirectNode:\n",
        "        curr = self.__head.next\n",
        "        while curr != self.__head:\n",
        "            if curr.item == x:\n",
        "                return curr\n",
        "            curr = curr.next\n",
        "        return None\n",
        "\n",
        "    def getNode(self, i: int) -> BidirectNode:\n",
        "        curr = self.__head\n",
        "        for _ in range(i + 1):\n",
        "            curr = curr.next\n",
        "        return curr\n",
        "\n",
        "    def printList(self) -> None:\n",
        "        for element in self:\n",
        "            print(element, end=' ')\n",
        "        print()\n",
        "\n",
        "    def __iter__(self):\n",
        "        return CircularDoublyLinkedListIterator(self)\n",
        "\n",
        "\n",
        "class CircularDoublyLinkedListIterator:\n",
        "    def __init__(self, alist):\n",
        "        self.__head = alist.getNode(-1)\n",
        "        self.iterPosition = self.__head.next\n",
        "\n",
        "    def __next__(self):\n",
        "        if self.iterPosition == self.__head:\n",
        "            raise StopIteration\n",
        "        else:\n",
        "            item = self.iterPosition.item\n",
        "            self.iterPosition = self.iterPosition.next\n",
        "            return item\n",
        "\n",
        "#from circularDoublyLinkedList import CircularDoublyLinkedList\n",
        "\n",
        "# 리스트 생성\n",
        "birthList = CircularDoublyLinkedList()\n",
        "\n",
        "# 이름, 생일 데이터 추가\n",
        "data = [\n",
        "    (\"강다원\", 20031015), (\"강민주\", 20051214), (\"강수아\", 20041103), (\"강윤서\", 20041108), (\"강주영\", 20041228),\n",
        "    (\"권보은\", 20041004), (\"김나림\", 20030805), (\"김나영\", 20051005), (\"김나현\", 20040203), (\"김난영\", 20040117),\n",
        "    (\"김남은\", 20000209), (\"김다연\", 20030304), (\"김도경\", 20050923), (\"김명신\", 20051002), (\"김미배\", 20050324),\n",
        "    (\"김민경\", 20051202), (\"김민영\", 20040210), (\"김민주\", 20040517), (\"김민주\", 20041026), (\"김보민\", 20020911),\n",
        "    (\"김서빈\", 20040628), (\"김소민\", 20050203), (\"김수련\", 20030110), (\"김수민\", 20041207), (\"김승연\", 20030124),\n",
        "    (\"김시연\", 20030910), (\"김아린\", 20031128), (\"김여원\", 20051031), (\"김연진\", 20010826), (\"김예빈\", 20051019),\n",
        "    (\"김예원\", 20040412), (\"김정민\", 20050422), (\"김주영\", 20000922), (\"김주원\", 20030110), (\"김주하\", 20050417),\n",
        "    (\"김지우\", 20040722), (\"김채린\", 20050123), (\"김채민\", 20050910), (\"김채현\", 20040409), (\"김하린\", 20030212),\n",
        "    (\"김혜인\", 20051001), (\"김혜정\", 20050501), (\"김효리\", 20011212), (\"나주희\", 20041104), (\"남궁수아\", 20050325),\n",
        "    (\"노은서\", 20050316), (\"두경은\", 20041105), (\"민고은\", 20050214), (\"박서연\", 20040428), (\"박성연\", 20040514),\n",
        "    (\"박지호\", 20040728), (\"박찬미\", 20000507), (\"박혜린\", 20030603), (\"배시은\", 20051102), (\"변수연\", 20040802),\n",
        "    (\"서홍빈\", 20051024), (\"선예영\", 20030122), (\"성유빈\", 20030104), (\"손지원\", 20050620), (\"송민서\", 20041108),\n",
        "    (\"신다연\", 20041206), (\"신수민\", 20051230), (\"신지예\", 20040707), (\"신희영\", 20050126), (\"안소민\", 20040420),\n",
        "    (\"안소형\", 20031022), (\"안수민\", 20030603), (\"안양준\", 19851205), (\"안정민\", 20040501), (\"안희랑\", 20030926),\n",
        "    (\"양소윤\", 20030702), (\"여지혜\", 20051009), (\"오다현\", 20020505), (\"오세은\", 20050328), (\"오예준\", 20050712),\n",
        "    (\"오하민\", 20050509), (\"유채원\", 20050920), (\"윤서영\", 20050519), (\"윤소정\", 20040413), (\"윤여빈\", 20030206),\n",
        "    (\"윤혜진\", 20050517), (\"은유빈\", 20040503), (\"이가연\", 20040927), (\"이서연\", 20041007), (\"이서영\", 20051112),\n",
        "    (\"이서영\", 20051225), (\"이서진\", 20050305), (\"이서진\", 20051028), (\"이서현\", 20040609), (\"이세윤\", 20040118),\n",
        "    (\"이수빈\", 20040910), (\"이승주\", 20041005), (\"이아현\", 20010904), (\"이예린\", 20040316), (\"이예림\", 20021215),\n",
        "    (\"이예은\", 20030109), (\"이우정\", 20020324), (\"이원진\", 20050602), (\"이유빈\", 20050601), (\"이재인\", 20041107),\n",
        "    (\"이지후\", 20030513), (\"이진\", 20020415), (\"이진서\", 20040327), (\"이채린\", 20030516), (\"이희서\", 20040415),\n",
        "    (\"임서영\", 20050207), (\"임성민\", 20021213), (\"전민서\", 20040318), (\"정세원\", 20041121), (\"정승주\", 20020619),\n",
        "    (\"정윤서\", 20030802), (\"정재윤\", 20050224), (\"정혜민\", 20030917), (\"조승연\", 20050119), (\"조예진\", 20040509),\n",
        "    (\"주희선\", 20050926), (\"최가온\", 20051008), (\"최수안\", 20050704), (\"한수진\", 20040805), (\"허재희\", 20050621),\n",
        "    (\"홍서연\", 20040611), (\"홍서연\", 20241282), (\"홍지연\", 20050203)\n",
        "]\n",
        "\n",
        "\n",
        "# 데이터 삽입\n",
        "for name, birth in data:\n",
        "    birthList.append((name, birth))\n",
        "\n",
        "# 같은 조 친구 목록\n",
        "my_team = [\"송민서\", \"안수민\", \"오예준\", \"진혜윤\", \"김채민\", \"김예빈\", \"신희영\", \"김선민\", \"김혜인\", \"김주하\", \"김민주\", \"최가온\", \"배시은\", \"강수아\", \"김서빈\"]\n",
        "\n",
        "\n",
        "for name, birth in birthList:\n",
        "    if name in my_team:\n",
        "        print(f\"이름: {name}, 생일: {birth}\")\n"
      ],
      "metadata": {
        "colab": {
          "base_uri": "https://localhost:8080/"
        },
        "id": "1dKCzuCcclob",
        "outputId": "a89a9847-30c4-489d-eacf-24426fe20e22"
      },
      "execution_count": null,
      "outputs": [
        {
          "output_type": "stream",
          "name": "stdout",
          "text": [
            "이름: 강수아, 생일: 20041103\n",
            "이름: 김민주, 생일: 20040517\n",
            "이름: 김민주, 생일: 20041026\n",
            "이름: 김서빈, 생일: 20040628\n",
            "이름: 김예빈, 생일: 20051019\n",
            "이름: 김주하, 생일: 20050417\n",
            "이름: 김채민, 생일: 20050910\n",
            "이름: 김혜인, 생일: 20051001\n",
            "이름: 배시은, 생일: 20051102\n",
            "이름: 송민서, 생일: 20041108\n",
            "이름: 신희영, 생일: 20050126\n",
            "이름: 안수민, 생일: 20030603\n",
            "이름: 오예준, 생일: 20050712\n",
            "이름: 최가온, 생일: 20051008\n"
          ]
        }
      ]
    },
    {
      "cell_type": "markdown",
      "source": [
        "#과제5. 교재 8장 우선 순위 큐 연습문제\n",
        "\n"
      ],
      "metadata": {
        "id": "dJVPdGEOGbH3"
      }
    },
    {
      "cell_type": "markdown",
      "source": [
        "##1번"
      ],
      "metadata": {
        "id": "yvuWy30_Zer6"
      }
    },
    {
      "cell_type": "code",
      "execution_count": null,
      "metadata": {
        "id": "O6R_BifyF8K8"
      },
      "outputs": [],
      "source": [
        "임의의 최대 힙에서 더 얕은 곳에 있는 원소는 더 깊은 곳에 있는 원소보다 더 작은 값을 가질 수 있다.\n",
        "예를 들어 높이가 4인 힙이 있다고 할 때, 레벨 2의 부모노드가 8이고 그의 자식노드가 7,5라고 하자.\n",
        "그때 레벨2에서의 자식노드 7는 레벨 3에서 부모노드가 되고 부모노드 7의 자식노드가 8,6 이라고 한다면 7의 형제노드인 5의 자식노드가 없을 때 이 문장이 성립할 수 있다는 것을 알 수 있다."
      ]
    },
    {
      "cell_type": "markdown",
      "source": [
        "##2번"
      ],
      "metadata": {
        "id": "vpdKqukKINIJ"
      }
    },
    {
      "cell_type": "code",
      "source": [
        "마지막 원소인 A[n-1]은 항상 가장 작은 값을 가지지 않을 수 있다.\n",
        "형제 노드끼리는 비교를 안하기 때문에 A[n-1]보다 A[n-2]가 더 작은 값일 수 있다."
      ],
      "metadata": {
        "id": "QeetiEi_IPE4"
      },
      "execution_count": null,
      "outputs": []
    },
    {
      "cell_type": "markdown",
      "source": [
        "##3번\n"
      ],
      "metadata": {
        "id": "X_lBKjOxIkIQ"
      }
    },
    {
      "cell_type": "code",
      "source": [
        "Heapify를 수행하지 않는 원소 개수는 n-(n/2)개이다.\n",
        "\n",
        "buildHeap() 알고리즘에서는 리프 노드(Leaf Node)는 자식이 없기 때문에 Heapify를 수행할 필요가 없다.\n",
        "따라서 Heapify는 내부 노드(Internal Node)에만 수행된다.\n",
        "완전 이진 트리에서 리프 노드는 배열의 뒷부분에 위치하여 배열 인덱스로 보면 리프 노드는 대략적으로 인덱스가 ⌊n/2⌋부터 n-1까지의 구간에 있다.\n",
        "즉, 전체 n개의 원소 중에서 인덱스 ⌊n/2⌋부터 n-1까지의 원소들은 Heapify를 수행하지 않고 넘어가게 된다.\n"
      ],
      "metadata": {
        "id": "LiKQE6vNIqJu"
      },
      "execution_count": null,
      "outputs": []
    },
    {
      "cell_type": "markdown",
      "source": [
        "##4번"
      ],
      "metadata": {
        "id": "pwWMFMTNIr60"
      }
    },
    {
      "cell_type": "code",
      "source": [
        "최악의 경우: θ(log _{2}n)\n",
        "최선의 경우: θ(1)"
      ],
      "metadata": {
        "id": "ieu5dkU-Iuzd"
      },
      "execution_count": null,
      "outputs": []
    },
    {
      "cell_type": "markdown",
      "source": [
        "##5번"
      ],
      "metadata": {
        "id": "1Ep2ohjwKqso"
      }
    },
    {
      "cell_type": "code",
      "source": [
        "힙의 맨 마지막 원소를 삭제하는 작업은 간단한 일이다.\n",
        "왜냐하면 맨 마지막 원소를 삭제해도 힙의 성질을 만족시키므로 스며올리기나 스며내리기를 할 필요가 없기 때문이다."
      ],
      "metadata": {
        "id": "RJ8982QsJoNW"
      },
      "execution_count": null,
      "outputs": []
    },
    {
      "cell_type": "markdown",
      "source": [
        "##6번\n"
      ],
      "metadata": {
        "id": "QSSa7xdRK_-O"
      }
    },
    {
      "cell_type": "code",
      "source": [
        "학생이 제안한 방법은 루트 노드부터 Heapify를 수행하는 방식인데, 이 방법도 힙을 만들 수는 있지만 비효율적이다.\n",
        "그 이유는 상위 노드를 Heapify해도 하위 노드가 나중에 Heapify되면서 다시 원래 상위 노드의 Heapify 결과가 깨질 수 있기 때문이다.\n",
        "결국 상위 노드 Heapify 작업을 여러 번 반복해야 하므로 시간이 더 오래 걸리게 된다.\n",
        "따라서 학생이 제안한 방식은 O(n log n)의 시간 복잡도가 되고 본문에 제시한 방법에 비해 비효율적이다."
      ],
      "metadata": {
        "id": "oMLVr8deLBqC"
      },
      "execution_count": null,
      "outputs": []
    },
    {
      "cell_type": "markdown",
      "source": [
        "##7번\n"
      ],
      "metadata": {
        "id": "OMbtSl0jMW72"
      }
    },
    {
      "cell_type": "code",
      "source": [
        "이를 위해서 스며올리기 과정을 진행하면 된다.\n",
        "먼저 값이 증가한 원소의 위치에서 부모 노드와 값을 비교한다. 만약 증가한 값이 부모 노드의 값보다 크다면 두 값을 서로 교환(swap)하고 새로운 부모 노드와 다시 비교하는 과정을 반복한다.\n",
        "이 과정을 루트 노드에 도달하거나 부모 노드보다 값이 작을 때까지 반복하면 된다."
      ],
      "metadata": {
        "id": "J6KXT57xMYll"
      },
      "execution_count": null,
      "outputs": []
    },
    {
      "cell_type": "markdown",
      "source": [
        "#과제6. LeetCode 703"
      ],
      "metadata": {
        "id": "muZO-pGEZhJQ"
      }
    },
    {
      "cell_type": "code",
      "source": [
        "class KthLargest(object):\n",
        "\n",
        "    def __init__(self, k, nums):\n",
        "        self.k = k\n",
        "        self.nums = nums\n",
        "        heapq.heapify(self.nums)  # Convert nums into a heap\n",
        "        # If the heap is larger than k, remove the smallest elements until it has exactly k elements\n",
        "        while len(self.nums) > k:\n",
        "            heapq.heappop(self.nums)\n",
        "\n",
        "    def add(self, val):\n",
        "        heapq.heappush(self.nums, val)\n",
        "        # If after adding the new value, the heap has more than k elements, pop the smallest\n",
        "        if len(self.nums) > self.k:\n",
        "            heapq.heappop(self.nums)\n",
        "        # The smallest element in the heap is now the k-th largest element\n",
        "        return self.nums[0]"
      ],
      "metadata": {
        "id": "Lok9KNs3Zlpq"
      },
      "execution_count": null,
      "outputs": []
    }
  ]
}